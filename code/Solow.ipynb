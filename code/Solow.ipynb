{
 "cells": [
  {
   "cell_type": "markdown",
   "metadata": {},
   "source": [
    "# The Solow Model\n",
    "Let's look at a parameterized example of the Solow model to better understand its mechanics. Let the production function be given by\n",
    "$$Y = AK^\\alpha L^{1-\\alpha}.$$\n",
    "In terms of the capital-labor ratio $k$ can be written\n",
    "$$y = Ak^\\alpha.$$\n",
    "Using equaiton (10) in the accompanying notes,\n",
    "$$k_+ = sAk^\\alpha + (1-\\delta)k$$\n",
    "The steady state $k^*$ is then\n"
   ]
  },
  {
   "cell_type": "markdown",
   "metadata": {},
   "source": [
    "$$k^* = \\left(\\frac{As}{\\delta}\\right)^\\frac{1}{1-\\alpha}.$$"
   ]
  },
  {
   "cell_type": "code",
   "execution_count": 1,
   "metadata": {},
   "outputs": [
    {
     "name": "stderr",
     "output_type": "stream",
     "text": [
      "<>:24: SyntaxWarning: invalid escape sequence '\\c'\n",
      "<>:24: SyntaxWarning: invalid escape sequence '\\c'\n",
      "/var/folders/sf/52fsqfvd6hj_v3zxnjtw_6cw0000gn/T/ipykernel_12398/3134940921.py:24: SyntaxWarning: invalid escape sequence '\\c'\n",
      "  ax.plot(kgrid, kgrid, 'k-', lw=1, alpha=0.7, label='$45^\\circ$')\n"
     ]
    },
    {
     "data": {
      "text/plain": [
       "<Figure size 3000x1800 with 0 Axes>"
      ]
     },
     "metadata": {},
     "output_type": "display_data"
    },
    {
     "data": {
      "application/vnd.jupyter.widget-view+json": {
       "model_id": "34778efca3574c8f93276fc3207dbfdc",
       "version_major": 2,
       "version_minor": 0
      },
      "text/plain": [
       "interactive(children=(FloatSlider(value=0.1, description='δ', max=1.0, step=0.05), FloatSlider(value=0.25, des…"
      ]
     },
     "metadata": {},
     "output_type": "display_data"
    }
   ],
   "source": [
    "from SolowObjects import *\n",
    "import ipywidgets as widgets\n",
    "import numpy as np\n",
    "import matplotlib.pyplot as plt\n",
    "plt.figure(dpi=300, figsize=(10,6))\n",
    "\n",
    "kmin = 0\n",
    "kmax = 6\n",
    "ymin = 0\n",
    "ymax = 6\n",
    "\n",
    "# We can use a 45 degree line and the law of motion to visualize the steady state.\n",
    "# Move the sliders around to illustrate various comparative statics.\n",
    "@widgets.interact(δ =(0,1,0.05), s = (0,1,0.05), A=(0,2,0.05))\n",
    "def PhaseDiagram(δ = 0.1, s = 0.25, A = 2):\n",
    "    kgrid = np.linspace(kmin,kmax,12000)\n",
    "    fig, ax = plt.subplots()\n",
    "    ax.set_xlim(kmin,kmax)\n",
    "    S = Solow(δ=δ,A=A,s=s)\n",
    "    PlusOnes = S.OneStep(kgrid = kgrid)\n",
    "    ax.set_ylim(ymin, ymax)\n",
    "    lb = r'$g(k) = sAk^{\\alpha} + (1 - \\delta)k$'\n",
    "    ax.plot(kgrid, PlusOnes,  lw=2, alpha=0.6, label=lb)\n",
    "    ax.plot(kgrid, kgrid, 'k-', lw=1, alpha=0.7, label='$45^\\circ$')\n",
    "    ax.legend()"
   ]
  },
  {
   "cell_type": "code",
   "execution_count": null,
   "metadata": {},
   "outputs": [],
   "source": []
  }
 ],
 "metadata": {
  "kernelspec": {
   "display_name": "Python 3",
   "language": "python",
   "name": "python3"
  },
  "language_info": {
   "codemirror_mode": {
    "name": "ipython",
    "version": 3
   },
   "file_extension": ".py",
   "mimetype": "text/x-python",
   "name": "python",
   "nbconvert_exporter": "python",
   "pygments_lexer": "ipython3",
   "version": "3.12.4"
  }
 },
 "nbformat": 4,
 "nbformat_minor": 2
}
